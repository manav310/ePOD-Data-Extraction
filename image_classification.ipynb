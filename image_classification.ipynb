{
 "cells": [
  {
   "cell_type": "code",
   "execution_count": 1,
   "metadata": {
    "colab": {
     "base_uri": "https://localhost:8080/"
    },
    "id": "-KX9LDTv0f6K",
    "outputId": "ce226471-39ee-43b5-8a49-6023de24369b"
   },
   "outputs": [
    {
     "name": "stdout",
     "output_type": "stream",
     "text": [
      "Mounted at /content/drive\n"
     ]
    }
   ],
   "source": [
    "from google.colab import drive\n",
    "drive.mount('/content/drive')"
   ]
  },
  {
   "cell_type": "code",
   "execution_count": 3,
   "metadata": {
    "id": "iZTboQ6yy6P-"
   },
   "outputs": [],
   "source": [
    "import cv2\n",
    "import os\n",
    "from dbr import *\n",
    "#from pyzbar import pyzbar\n",
    "import matplotlib.pyplot as plt\n",
    "import numpy as np\n",
    "from PIL import Image\n",
    "from PIL import ImageEnhance\n",
    "import tempfile\n",
    "# from google.colab.patches import cv2_imshow\n",
    "import shutil"
   ]
  },
  {
   "cell_type": "code",
   "execution_count": 4,
   "metadata": {
    "id": "MyXj3yX4hom8"
   },
   "outputs": [
    {
     "ename": "ModuleNotFoundError",
     "evalue": "No module named 'skimage'",
     "output_type": "error",
     "traceback": [
      "\u001b[1;31m---------------------------------------------------------------------------\u001b[0m",
      "\u001b[1;31mModuleNotFoundError\u001b[0m                       Traceback (most recent call last)",
      "Cell \u001b[1;32mIn[4], line 1\u001b[0m\n\u001b[1;32m----> 1\u001b[0m \u001b[38;5;28;01mfrom\u001b[39;00m \u001b[38;5;21;01mskimage\u001b[39;00m\u001b[38;5;21;01m.\u001b[39;00m\u001b[38;5;21;01mtransform\u001b[39;00m \u001b[38;5;28;01mimport\u001b[39;00m hough_line, hough_line_peaks\n\u001b[0;32m      2\u001b[0m \u001b[38;5;28;01mfrom\u001b[39;00m \u001b[38;5;21;01mskimage\u001b[39;00m\u001b[38;5;21;01m.\u001b[39;00m\u001b[38;5;21;01mtransform\u001b[39;00m \u001b[38;5;28;01mimport\u001b[39;00m rotate, resize\n\u001b[0;32m      3\u001b[0m \u001b[38;5;28;01mfrom\u001b[39;00m \u001b[38;5;21;01mskimage\u001b[39;00m\u001b[38;5;21;01m.\u001b[39;00m\u001b[38;5;21;01mfeature\u001b[39;00m \u001b[38;5;28;01mimport\u001b[39;00m canny\n",
      "\u001b[1;31mModuleNotFoundError\u001b[0m: No module named 'skimage'"
     ]
    }
   ],
   "source": [
    "from skimage.transform import hough_line, hough_line_peaks\n",
    "from skimage.transform import rotate, resize\n",
    "from skimage.feature import canny\n",
    "from skimage.io import imread, imsave\n",
    "from skimage.color import rgb2gray\n",
    "from scipy.stats import mode"
   ]
  },
  {
   "cell_type": "code",
   "execution_count": 6,
   "metadata": {
    "id": "wI1m5sv9CfWc"
   },
   "outputs": [],
   "source": [
    "folder_path = # give folder path"
   ]
  },
  {
   "cell_type": "code",
   "execution_count": null,
   "metadata": {
    "id": "ekpWIdOhf3wA"
   },
   "outputs": [],
   "source": [
    "def remove_shadow(img):\n",
    "  rgb_planes = cv2.split(img)\n",
    "\n",
    "  result_planes = []\n",
    "  result_norm_planes = []\n",
    "  for plane in rgb_planes:\n",
    "      dilated_img = cv2.dilate(plane, np.ones((7,7), np.uint8))\n",
    "      bg_img = cv2.medianBlur(dilated_img, 21)\n",
    "      diff_img = 255 - cv2.absdiff(plane, bg_img)\n",
    "      norm_img = cv2.normalize(diff_img,None, alpha=0, beta=255, norm_type=cv2.NORM_MINMAX, dtype=cv2.CV_8UC1)\n",
    "      result_planes.append(diff_img)\n",
    "      result_norm_planes.append(norm_img)\n",
    "\n",
    "  result = cv2.merge(result_planes)\n",
    "  result_norm = cv2.merge(result_norm_planes)\n",
    "\n",
    "  return result"
   ]
  },
  {
   "cell_type": "code",
   "execution_count": null,
   "metadata": {
    "id": "iTxeWlJ0XMOQ"
   },
   "outputs": [],
   "source": [
    "c = 0\n",
    "for filename in os.listdir(folder_path):\n",
    "  image_path = os.path.join(folder_path, filename)\n",
    "  img = cv2.imread(image_path)\n",
    "  #cv2_imshow(img)\n",
    "  img = remove_shadow(img)\n",
    "  gray = cv2.cvtColor(img, cv2.COLOR_BGR2GRAY)\n",
    "  ret, thresh = cv2.threshold(gray, 200, 255, cv2.THRESH_BINARY)\n",
    "  contours, hierarchy = cv2.findContours(image=thresh, mode=cv2.RETR_TREE, method=cv2.CHAIN_APPROX_NONE)\n",
    "  contours2=[]\n",
    "  cv2_imshow(gray)\n",
    "  for cnt in contours:\n",
    "      if(cv2.contourArea(cnt)>1500):\n",
    "          contours2.append(cnt)\n",
    "  coordinates = []\n",
    "  for cnt in contours2:\n",
    "      [x, y, w, h] = cv2.boundingRect(cnt)\n",
    "      coordinates.append((x, y, w, h))\n",
    "  for box in coordinates:\n",
    "    x1= box[0]\n",
    "    x2=(box[0]+box[2])\n",
    "    y1=box[1]\n",
    "    y2=(box[1]+box[3])\n",
    "    cropped_box = gray[y1:y2, x1:x2]\n",
    "    barcodes = pyzbar.decode(cropped_box)\n",
    "    if len(barcodes) > 0:\n",
    "      cv2_imshow(cropped_box)\n",
    "      print(\"Barcode detected in\", box)\n",
    "      for barcode in barcodes:\n",
    "          barcode_data = barcode.data.decode(\"utf-8\")\n",
    "          barcode_type = barcode.type\n",
    "          print(\"Barcode Type:\", barcode_type)\n",
    "          print(\"Barcode Data:\", barcode_data)\n",
    "  print('moving to next image.......')"
   ]
  },
  {
   "cell_type": "code",
   "execution_count": null,
   "metadata": {
    "id": "HXheJ1xGda8S"
   },
   "outputs": [],
   "source": [
    "c=0\n",
    "for filename in os.listdir(folder_path):\n",
    "    file_path = os.path.join(folder_path, filename)\n",
    "\n",
    "    if os.path.isfile(file_path) and any(file_path.endswith(ext) for ext in ['.jpg', '.jpeg', '.png']):\n",
    "        image = cv2.imread(file_path)\n",
    "        gray = cv2.cvtColor(image, cv2.COLOR_BGR2GRAY)\n",
    "        barcodes = pyzbar.decode(gray)\n",
    "\n",
    "        if len(barcodes) > 0:\n",
    "          c+=1\n",
    "          for barcode in barcodes:\n",
    "              barcode_data = barcode.data.decode(\"utf-8\")\n",
    "              barcode_type = barcode.type\n",
    "              print(\"Barcode Type:\", barcode_type)\n",
    "              print(\"Barcode Data:\", barcode_data)\n",
    "        else:\n",
    "          cv2_imshow(image)\n",
    "    print('moving to next image.......')\n",
    "print(c)"
   ]
  },
  {
   "cell_type": "code",
   "execution_count": null,
   "metadata": {
    "id": "8ZYxAmnV2_Ko"
   },
   "outputs": [],
   "source": [
    "c=0\n",
    "k=0\n",
    "BarcodeReader.init_license = #dbr license code\n",
    "reader = BarcodeReader()\n",
    "usable_folder = #\n",
    "non_usable_folder = #\n",
    "for filename in os.listdir(folder_path):\n",
    "    file_path = os.path.join(folder_path, filename)\n",
    "    if os.path.isfile(file_path) and any(file_path.endswith(ext) for ext in ['.jpg', '.jpeg', '.png']):\n",
    "      try:\n",
    "        results = reader.decode_file(file_path)\n",
    "        if results != None:\n",
    "         for text_result in results:\n",
    "          print(\"Barcode Format : \" + text_result.barcode_format_string)\n",
    "          print(\"Barcode Text : \" + text_result.barcode_text)\n",
    "          c+=1\n",
    "          print(c)\n",
    "        else:\n",
    "          try:\n",
    "            temp_path = enhance(file_path)\n",
    "          except:\n",
    "            print('image can not be enhanced')\n",
    "            continue\n",
    "          if os.path.isfile(temp_path) and any(temp_path.endswith(ext) for ext in ['.jpg', '.jpeg', '.png']):\n",
    "            try:\n",
    "              results = reader.decode_file(temp_path)\n",
    "              if results != None:\n",
    "                for text_result in results:\n",
    "                  print(\"Barcode Format : \" + text_result.barcode_format_string)\n",
    "                  print(\"Barcode Text : \" + text_result.barcode_text)\n",
    "                  c+=1\n",
    "                  print(c)\n",
    "            except BarcodeReaderError as bre:\n",
    "              print(bre)\n",
    "      except BarcodeReaderError as bre:\n",
    "        print(bre)\n",
    "    k+=1\n",
    "    print(k)\n",
    "    print('moving to next image.......')\n",
    "print(c)\n",
    "del reader\n",
    "os.remove(temp_path)"
   ]
  },
  {
   "cell_type": "code",
   "execution_count": 7,
   "metadata": {
    "id": "hgail9KJeHlU"
   },
   "outputs": [],
   "source": [
    "def enhance(file_path):\n",
    "  temp_path = tempfile.mktemp(suffix=\".jpg\")\n",
    "  img = Image.open(file_path)\n",
    "  curr_bri = ImageEnhance.Brightness(img)\n",
    "  new_bri = 1.2\n",
    "  img = curr_bri.enhance(new_bri)\n",
    "  curr_col = ImageEnhance.Color(img)\n",
    "  new_col = 2.5\n",
    "  img = curr_col.enhance(new_col)\n",
    "  curr_con = ImageEnhance.Contrast(img)\n",
    "  new_con = 1.2\n",
    "  img= curr_con.enhance(new_con)\n",
    "  img = img.convert('RGB')\n",
    "  img = cv2.cvtColor(np.array(img), cv2.COLOR_RGB2BGR)\n",
    "  cv2.imwrite(temp_path, img)\n",
    "  return temp_path"
   ]
  },
  {
   "cell_type": "markdown",
   "metadata": {},
   "source": [
    "## extra"
   ]
  },
  {
   "cell_type": "code",
   "execution_count": 2,
   "metadata": {},
   "outputs": [
    {
     "data": {
      "text/plain": [
       "Index(['Tracking Number', 'Tracking Status', 'Courier Company',\n",
       "       'Courier Service', 'POD Link', 'Usable / Non-usable'],\n",
       "      dtype='object')"
      ]
     },
     "execution_count": 2,
     "metadata": {},
     "output_type": "execute_result"
    }
   ],
   "source": [
    "df.columns"
   ]
  },
  {
   "cell_type": "code",
   "execution_count": 3,
   "metadata": {},
   "outputs": [],
   "source": [
    "url_links = list(df['POD Link'])"
   ]
  },
  {
   "cell_type": "code",
   "execution_count": 9,
   "metadata": {},
   "outputs": [],
   "source": [
    "image_names = []\n",
    "for link in url_links:\n",
    "    name = link.split('/')[-1]\n",
    "    ext = name[-4:]\n",
    "    if ext not in ['.png', '.jpg', 'jpeg']:\n",
    "        name = name + '.jpg'\n",
    "    image_names.append(name)"
   ]
  },
  {
   "cell_type": "code",
   "execution_count": 10,
   "metadata": {},
   "outputs": [],
   "source": [
    "import os"
   ]
  },
  {
   "cell_type": "code",
   "execution_count": 12,
   "metadata": {},
   "outputs": [],
   "source": [
    "usable_folder = #\n",
    "all_usable_images = os.listdir(usable_folder)        "
   ]
  },
  {
   "cell_type": "code",
   "execution_count": 14,
   "metadata": {},
   "outputs": [],
   "source": [
    "for i, img_name in enumerate(image_names):\n",
    "    if img_name in all_usable_images:\n",
    "        df.loc[i, 'Usable / Non-usable'] = 'Usable'\n",
    "    else:\n",
    "        df.loc[i, 'Usable / Non-usable'] = 'Non-usable' "
   ]
  },
  {
   "cell_type": "code",
   "execution_count": 15,
   "metadata": {},
   "outputs": [
    {
     "data": {
      "text/html": [
       "<div>\n",
       "<style scoped>\n",
       "    .dataframe tbody tr th:only-of-type {\n",
       "        vertical-align: middle;\n",
       "    }\n",
       "\n",
       "    .dataframe tbody tr th {\n",
       "        vertical-align: top;\n",
       "    }\n",
       "\n",
       "    .dataframe thead th {\n",
       "        text-align: right;\n",
       "    }\n",
       "</style>\n",
       "<table border=\"1\" class=\"dataframe\">\n",
       "  <thead>\n",
       "    <tr style=\"text-align: right;\">\n",
       "      <th></th>\n",
       "      <th>Tracking Number</th>\n",
       "      <th>Tracking Status</th>\n",
       "      <th>Courier Company</th>\n",
       "      <th>Courier Service</th>\n",
       "      <th>POD Link</th>\n",
       "      <th>Usable / Non-usable</th>\n",
       "    </tr>\n",
       "  </thead>\n",
       "  <tbody>\n",
       "    <tr>\n",
       "      <th>0</th>\n",
       "      <td>C701088203</td>\n",
       "      <td>Delivered</td>\n",
       "      <td>sahara_express</td>\n",
       "      <td>NaN</td>\n",
       "      <td>http://demo.saharaexpress.com/mobile_images/C7...</td>\n",
       "      <td>Usable</td>\n",
       "    </tr>\n",
       "    <tr>\n",
       "      <th>1</th>\n",
       "      <td>C701088203</td>\n",
       "      <td>Delivered</td>\n",
       "      <td>sahara_express</td>\n",
       "      <td>NaN</td>\n",
       "      <td>http://demo.saharaexpress.com/mobile_images/C7...</td>\n",
       "      <td>Usable</td>\n",
       "    </tr>\n",
       "    <tr>\n",
       "      <th>2</th>\n",
       "      <td>C701088203</td>\n",
       "      <td>Delivered</td>\n",
       "      <td>sahara_express</td>\n",
       "      <td>NaN</td>\n",
       "      <td>http://demo.saharaexpress.com/mobile_images/C7...</td>\n",
       "      <td>Usable</td>\n",
       "    </tr>\n",
       "    <tr>\n",
       "      <th>3</th>\n",
       "      <td>C701088203</td>\n",
       "      <td>Delivered</td>\n",
       "      <td>sahara_express</td>\n",
       "      <td>NaN</td>\n",
       "      <td>http://demo.saharaexpress.com/mobile_images/C7...</td>\n",
       "      <td>Usable</td>\n",
       "    </tr>\n",
       "    <tr>\n",
       "      <th>4</th>\n",
       "      <td>2020048233</td>\n",
       "      <td>Delivered</td>\n",
       "      <td>unique5pl</td>\n",
       "      <td>ROAD</td>\n",
       "      <td>https://unique5pl.com/u_pod/upload_pod/2020048...</td>\n",
       "      <td>Non-usable</td>\n",
       "    </tr>\n",
       "  </tbody>\n",
       "</table>\n",
       "</div>"
      ],
      "text/plain": [
       "  Tracking Number Tracking Status Courier Company Courier Service  \\\n",
       "0      C701088203       Delivered  sahara_express             NaN   \n",
       "1      C701088203       Delivered  sahara_express             NaN   \n",
       "2      C701088203       Delivered  sahara_express             NaN   \n",
       "3      C701088203       Delivered  sahara_express             NaN   \n",
       "4      2020048233       Delivered       unique5pl            ROAD   \n",
       "\n",
       "                                            POD Link Usable / Non-usable  \n",
       "0  http://demo.saharaexpress.com/mobile_images/C7...              Usable  \n",
       "1  http://demo.saharaexpress.com/mobile_images/C7...              Usable  \n",
       "2  http://demo.saharaexpress.com/mobile_images/C7...              Usable  \n",
       "3  http://demo.saharaexpress.com/mobile_images/C7...              Usable  \n",
       "4  https://unique5pl.com/u_pod/upload_pod/2020048...          Non-usable  "
      ]
     },
     "execution_count": 15,
     "metadata": {},
     "output_type": "execute_result"
    }
   ],
   "source": [
    "df.head()"
   ]
  },
  {
   "cell_type": "code",
   "execution_count": 16,
   "metadata": {},
   "outputs": [],
   "source": [
    "df.to_excel(#)"
   ]
  },
  {
   "cell_type": "code",
   "execution_count": null,
   "metadata": {},
   "outputs": [],
   "source": [
    "c=0\n",
    "k=0\n",
    "BarcodeReader.init_license(#dbr license code)\n",
    "reader = BarcodeReader()\n",
    "usable_folder = ##\n",
    "non_usable_folder = ##\n",
    "for filename in os.listdir(folder_path):\n",
    "    file_path = os.path.join(folder_path, filename)\n",
    "    if os.path.isfile(file_path) and any(file_path.endswith(ext) for ext in ['.jpg', '.jpeg', '.png']):\n",
    "      try:\n",
    "        results = reader.decode_file(file_path)\n",
    "        if results != None:\n",
    "         for text_result in results:\n",
    "          print(\"Barcode Format : \" + text_result.barcode_format_string)\n",
    "          print(\"Barcode Text : \" + text_result.barcode_text)\n",
    "          c+=1\n",
    "          print(c)\n",
    "        else:\n",
    "          try:\n",
    "            temp_path = enhance(file_path)\n",
    "          except:\n",
    "            print('image can not be enhanced')\n",
    "            continue\n",
    "          if os.path.isfile(temp_path) and any(temp_path.endswith(ext) for ext in ['.jpg', '.jpeg', '.png']):\n",
    "            try:\n",
    "              results = reader.decode_file(temp_path)\n",
    "              if results != None:\n",
    "                for text_result in results:\n",
    "                  print(\"Barcode Format : \" + text_result.barcode_format_string)\n",
    "                  print(\"Barcode Text : \" + text_result.barcode_text)\n",
    "                  c+=1\n",
    "                  print(c)\n",
    "            except BarcodeReaderError as bre:\n",
    "              print(bre)\n",
    "      except BarcodeReaderError as bre:\n",
    "        print(bre)\n",
    "    k+=1\n",
    "    print(k)\n",
    "    print('moving to next image.......')\n",
    "print(c)\n",
    "del reader\n",
    "os.remove(temp_path)"
   ]
  }
 ],
 "metadata": {
  "colab": {
   "provenance": []
  },
  "kernelspec": {
   "display_name": "Python 3 (ipykernel)",
   "language": "python",
   "name": "python3"
  },
  "language_info": {
   "codemirror_mode": {
    "name": "ipython",
    "version": 3
   },
   "file_extension": ".py",
   "mimetype": "text/x-python",
   "name": "python",
   "nbconvert_exporter": "python",
   "pygments_lexer": "ipython3",
   "version": "3.9.16"
  }
 },
 "nbformat": 4,
 "nbformat_minor": 1
}
