{
  "cells": [
    {
      "cell_type": "code",
      "execution_count": null,
      "metadata": {
        "id": "wrwAHLh0cgut"
      },
      "outputs": [],
      "source": [
        "!apt install tesseract-ocr\n",
        "!pip install pytesseract\n",
        "!pip install python-doctr\n",
        "!pip install tf2onnx\n",
        "!pip install tensorflow-addons==0.16.1\n",
        "!pip install rapidfuzz==2.15.1"
      ]
    },
    {
      "cell_type": "code",
      "execution_count": null,
      "metadata": {
        "colab": {
          "base_uri": "https://localhost:8080/"
        },
        "id": "d921OC8fYmml",
        "outputId": "eca54924-46e4-4b45-bebc-abc1fd84c53f"
      },
      "outputs": [
        {
          "name": "stderr",
          "output_type": "stream",
          "text": [
            "/usr/local/lib/python3.10/dist-packages/tensorflow_addons/utils/ensure_tf_install.py:53: UserWarning: Tensorflow Addons supports using Python ops for all Tensorflow versions above or equal to 2.6.0 and strictly below 2.9.0 (nightly versions are not supported). \n",
            " The versions of TensorFlow you are currently using is 2.12.0 and is not supported. \n",
            "Some things might work, some things might not.\n",
            "If you were to encounter a bug, do not file an issue.\n",
            "If you want to make sure you're using a tested and supported configuration, either change the TensorFlow version or the TensorFlow Addons's version. \n",
            "You can find the compatibility matrix in TensorFlow Addon's readme:\n",
            "https://github.com/tensorflow/addons\n",
            "  warnings.warn(\n"
          ]
        }
      ],
      "source": [
        "import numpy as np\n",
        "import cv2\n",
        "import argparse\n",
        "import math\n",
        "from scipy import ndimage\n",
        "from PIL import Image\n",
        "from PIL import ImageEnhance\n",
        "import pytesseract\n",
        "from pytesseract import Output\n",
        "import tensorflow_addons as tfa\n",
        "from google.colab.patches import cv2_imshow\n",
        "import os\n",
        "import re"
      ]
    },
    {
      "cell_type": "code",
      "execution_count": null,
      "metadata": {
        "id": "O3-y6n8h1EzQ"
      },
      "outputs": [],
      "source": [
        "from skimage.transform import hough_line, hough_line_peaks\n",
        "from skimage.transform import rotate, resize\n",
        "from skimage.feature import canny\n",
        "from skimage.io import imread, imsave\n",
        "from skimage.color import rgb2gray\n",
        "from scipy.stats import mode"
      ]
    },
    {
      "cell_type": "code",
      "execution_count": null,
      "metadata": {
        "id": "X88t0iA42mWl"
      },
      "outputs": [],
      "source": [
        "def enhance(img):\n",
        "  curr_bri = ImageEnhance.Brightness(img)\n",
        "  new_bri = 1.2\n",
        "  img = curr_bri.enhance(new_bri)\n",
        "  curr_col = ImageEnhance.Color(img)\n",
        "  new_col = 1.2\n",
        "  img = curr_col.enhance(new_col)\n",
        "  curr_con = ImageEnhance.Contrast(img)\n",
        "  new_con = 1.2\n",
        "  img= curr_con.enhance(new_con)\n",
        "  curr_sha = ImageEnhance.Sharpness(img)\n",
        "  new_sha = 2\n",
        "  img = curr_sha.enhance(new_sha)\n",
        "  return img"
      ]
    },
    {
      "cell_type": "code",
      "execution_count": null,
      "metadata": {
        "id": "cBFwLqFHWVbY"
      },
      "outputs": [],
      "source": [
        "def skew_angle_hough_transform(image):\n",
        "  '''\n",
        "  Method to calculate and fetch skew angle of the ePOD image\n",
        "  '''\n",
        "  grayscale_image = image.convert('L')\n",
        "  # Convert the grayscale image to a NumPy array\n",
        "  image = np.array(grayscale_image)\n",
        "  # convert to edges\n",
        "  edges = canny(image)\n",
        "  # Classic straight-line Hough transform between 0.1 - 180 degrees.\n",
        "  tested_angles = np.deg2rad(np.arange(0.1, 180.0))\n",
        "  h, theta, d = hough_line(edges, theta=tested_angles)\n",
        "\n",
        "  # find line peaks and angles\n",
        "  accum, angles, dists = hough_line_peaks(h, theta, d)\n",
        "\n",
        "  # round the angles to 2 decimal places and find the most common angle.\n",
        "  most_common_angle = mode(np.around(angles, decimals=2))[0]\n",
        "\n",
        "  # convert the angle to degree for rotation.\n",
        "  skew_angle = np.rad2deg(most_common_angle - np.pi/2)\n",
        "  return skew_angle"
      ]
    },
    {
      "cell_type": "code",
      "execution_count": null,
      "metadata": {
        "id": "jwzOWSqlbJyc"
      },
      "outputs": [],
      "source": [
        "def rotate_img_manual(image):\n",
        "  img_gray = cv2.cvtColor(image, cv2.COLOR_BGR2GRAY)\n",
        "  img_edges = cv2.Canny(img_gray, 100, 100, apertureSize=3)\n",
        "  lines = cv2.HoughLinesP(img_edges, 1, math.pi / 180.0, 100, minLineLength=100, maxLineGap=5)\n",
        "\n",
        "  angles = []\n",
        "\n",
        "  for [[x1, y1, x2, y2]] in lines:\n",
        "      # cv2.line(img_before, (x1, y1), (x2, y2), (255, 0, 0), 3)\n",
        "      angle = math.degrees(math.atan2(y2 - y1, x2 - x1))\n",
        "      angles.append(angle)\n",
        "\n",
        "  median_angle = np.median(angles)\n",
        "  if median_angle < 0:\n",
        "    img_rotated = ndimage.rotate(image, -median_angle)\n",
        "  else:\n",
        "    img_rotated = ndimage.rotate(image, median_angle)\n",
        "  return img_rotated, median_angle"
      ]
    },
    {
      "cell_type": "markdown",
      "metadata": {
        "id": "wXF0-oc1apWK"
      },
      "source": [
        "##Using pytesseract"
      ]
    },
    {
      "cell_type": "code",
      "execution_count": null,
      "metadata": {
        "id": "DkTMLucjehyl"
      },
      "outputs": [],
      "source": [
        "pytesseract.pytesseract.tesseract_cmd = r'/usr/bin/tesseract'\n",
        "image_path = #give image path\n",
        "img = cv2.imread(image_path)\n",
        "gray = cv2.cvtColor(img, cv2.COLOR_BGR2GRAY)\n",
        "config = ('-l eng --oem 1 --psm 3')\n",
        "text = pytesseract.image_to_data(img, config=config)\n",
        "#text = text.split('\\n')\n",
        "print(text)"
      ]
    },
    {
      "cell_type": "markdown",
      "metadata": {
        "id": "89o5iaYyAA0p"
      },
      "source": [
        "## Using doctr"
      ]
    },
    {
      "cell_type": "code",
      "execution_count": null,
      "metadata": {
        "id": "EjTFZ9a_AFDd"
      },
      "outputs": [],
      "source": [
        "from doctr.io import DocumentFile\n",
        "from doctr.models import ocr_predictor\n",
        "from doctr.models.predictor.pytorch import rotate_image"
      ]
    },
    {
      "cell_type": "code",
      "execution_count": null,
      "metadata": {
        "colab": {
          "base_uri": "https://localhost:8080/",
          "height": 116,
          "referenced_widgets": [
            "d7cfc3101ce14606bc9fbc2360ec4c90",
            "2363916665f44b00a0334c853356539d",
            "c874e64b94054b5680897899d74fa050",
            "63f1271a35c742eca00914740b84166d",
            "1f8bb81a8eeb4b6792c0856d28f68b11",
            "9c4c95c2723c43be86f8c05fa4d90da6",
            "885c046fd6d647e4b0c4a799894693dc",
            "8970f78d023648c7a69966d979d93b12",
            "1698d5f85c6641d78c7b7a576151bdbb",
            "f20d2029ee5a4ac7ba89416b1add5024",
            "34d403d9ba1245a1aab519e56f69c503",
            "d851ae745c364383bcfedd8cce057335",
            "cabb39898c3e40cb958c9ecdcfc096cb",
            "1e5e39b718424fd98a0e729c82cb9570",
            "ab1670b3e0d243ba9edbcfcbb0f0715c",
            "57d81a3098cd4c91b4ee5e0bbcdba280",
            "eb161e4be9494261b7c4a9ddd7393dfb",
            "bbf112ebd8ec4e13b3dcf099c337e29d",
            "c48cbb1a24e147068d08225905377136",
            "0e8b80c962f7451f93b4ff0180802e19",
            "219168d645a6409bad2e75005fb5dbdb",
            "070c1aef6de440aa89cec234ba47a516"
          ]
        },
        "id": "WNasSO50YMtS",
        "outputId": "888ea97e-22bc-41bd-a6f8-3312f268756d"
      },
      "outputs": [
        {
          "name": "stdout",
          "output_type": "stream",
          "text": [
            "Downloading https://doctr-static.mindee.com/models?id=v0.2.0/db_resnet50-adcafc63.zip&src=0 to /root/.cache/doctr/models/db_resnet50-adcafc63.zip\n"
          ]
        },
        {
          "data": {
            "application/vnd.jupyter.widget-view+json": {
              "model_id": "d7cfc3101ce14606bc9fbc2360ec4c90",
              "version_major": 2,
              "version_minor": 0
            },
            "text/plain": [
              "  0%|          | 0/94178964 [00:00<?, ?it/s]"
            ]
          },
          "metadata": {},
          "output_type": "display_data"
        },
        {
          "name": "stdout",
          "output_type": "stream",
          "text": [
            "Downloading https://doctr-static.mindee.com/models?id=v0.3.0/crnn_vgg16_bn-76b7f2c6.zip&src=0 to /root/.cache/doctr/models/crnn_vgg16_bn-76b7f2c6.zip\n"
          ]
        },
        {
          "data": {
            "application/vnd.jupyter.widget-view+json": {
              "model_id": "d851ae745c364383bcfedd8cce057335",
              "version_major": 2,
              "version_minor": 0
            },
            "text/plain": [
              "  0%|          | 0/58758994 [00:00<?, ?it/s]"
            ]
          },
          "metadata": {},
          "output_type": "display_data"
        }
      ],
      "source": [
        "model = ocr_predictor(det_arch='db_resnet50', reco_arch='crnn_vgg16_bn', pretrained=True, export_as_straight_boxes=True)"
      ]
    },
    {
      "cell_type": "code",
      "execution_count": null,
      "metadata": {
        "id": "W9Ef99WkS2n4"
      },
      "outputs": [],
      "source": [
        "# binary_pil_image = Image.fromarray(img[0])\n",
        "# # binary_pil_image = binary_pil_image.resize((900, 900))\n",
        "# img_l = np.array(enhance(binary_pil_image))\n",
        "# angle = skew_angle_hough_transform(binary_pil_image)\n",
        "# img_l = rotate_image(img_l,angle=float(angle),expand = True) ## for deskewing\n",
        "\n",
        "# rotated_img = rotate_img_manual(img_l) # for rotating\n",
        "# img = [rotated_img]\n",
        "# result = model(img)\n",
        "# result.show(img)\n",
        "# json_output = result.export()"
      ]
    },
    {
      "cell_type": "code",
      "execution_count": null,
      "metadata": {
        "id": "39XvxecbdK37"
      },
      "outputs": [],
      "source": [
        "for img_path in os.listdir(#dir name):\n",
        "  img_path_full = os.path.join('#dir name', img_path)\n",
        "  print(img_path_full)\n",
        "  img = DocumentFile.from_images(img_path_full)\n",
        "  binary_pil_image = Image.fromarray(img[0])\n",
        "  binary_pil_image = binary_pil_image.resize((1000, 1000))\n",
        "  # print(binary_pil_image)\n",
        "\n",
        "  angle = skew_angle_hough_transform(binary_pil_image)\n",
        "  # print(angle)\n",
        "  angle = -angle\n",
        "  img_l = rotate_image(np.array(binary_pil_image), angle=float(angle),expand = True) # for deskewing\n",
        "  # cv2_imshow(img_l)\n",
        "\n",
        "  rotated_img, angle = rotate_img_manual(img_l) # for rotating\n",
        "  # cv2_imshow(rotated_img)\n",
        "\n",
        "  # resized_img = cv2.resize(rotated_img, (800, 1200))\n",
        "  img_l = np.array(enhance(Image.fromarray(rotated_img)))\n",
        "\n",
        "  img = [img_l]\n",
        "\n",
        "  result = model(img)\n",
        "  # result.show(img)\n",
        "  lines = []\n",
        "\n",
        "  for page in result.pages:\n",
        "      for block in page.blocks:\n",
        "          for line in block.lines:\n",
        "              words = []\n",
        "              for word in line.words:\n",
        "                  words.append(word.value)\n",
        "              line_text = \" \".join(words)\n",
        "              lines.append(line_text)\n",
        "\n",
        "  text = \"\\n\".join(lines)\n",
        "  print(text)\n",
        "\n",
        "  #Extract weight\n",
        "  weight_pattern1 = r\"\\b(?:weight|wt)\\s?\\(?\\w+\\)?\\s?:?\\s?(\\d+(\\.\\d+)?)\\b\"\n",
        "  weight_pattern2 = r\"\\b(?:weight|wt)\\s?:?\\s?(\\d+(\\.\\d+)?)\\s?\\b\"\n",
        "  weight_pattern3 = r\"\\d+(\\.\\d+)?\\s?(?i:kg|k\\s?g\\s?s|kilograms|kg5|(kgs))\\b\"\n",
        "\n",
        "  weight_matches1 = re.findall(weight_pattern1, text, flags=re.IGNORECASE)\n",
        "  weight_matches2 = re.findall(weight_pattern2, text, flags=re.IGNORECASE)\n",
        "  weight_matches3 = re.findall(weight_pattern3, text, flags=re.IGNORECASE)\n",
        "\n",
        "  if weight_matches1 or weight_matches2 or weight_matches3:\n",
        "    if weight_matches1:\n",
        "        shipment_weight = weight_matches1[0][0]\n",
        "    elif weight_matches2:\n",
        "        shipment_weight = weight_matches2[0][0]\n",
        "    elif weight_matches3:\n",
        "        shipment_weight = weight_matches3[0][0]\n",
        "    print(\"Shipment Weight:\",shipment_weight,\"kg\")\n",
        "\n",
        "  # Extract number of boxes\n",
        "  boxes_pattern1 = r\"\\b(?:box|boxes|quantity|packages|No\\.?\\s?of\\s?pkgs)[:#]?[:#]?\\s?(\\d+)\\b\"\n",
        "  boxes_pattern2 = r\"\\b(\\d+)\\s?(?:box|boxes|quantity|packages|No\\.?\\s?of\\s?pkgs)\\b\"\n",
        "\n",
        "  box_matches1 = re.findall(boxes_pattern1, text, flags=re.IGNORECASE)\n",
        "  box_matches2 = re.findall(boxes_pattern2, text, flags=re.IGNORECASE)\n",
        "\n",
        "  if box_matches1 or box_matches2:\n",
        "    if box_matches1:\n",
        "        num_boxes = box_matches1[0]\n",
        "    elif box_matches2:\n",
        "        num_boxes = box_matches2[0]\n",
        "    print(\"Number of boxes:\",num_boxes)\n",
        "\n",
        "  print('-------------------------------------------')"
      ]
    }
  ],
  "metadata": {
    "colab": {
      "collapsed_sections": [
        "wXF0-oc1apWK"
      ],
      "provenance": []
    },
    "kernelspec": {
      "display_name": "Python 3",
      "name": "python3"
    },
    "language_info": {
      "name": "python"
    },
    "widgets": {
      "application/vnd.jupyter.widget-state+json": {
        "070c1aef6de440aa89cec234ba47a516": {
          "model_module": "@jupyter-widgets/controls",
          "model_module_version": "1.5.0",
          "model_name": "DescriptionStyleModel",
          "state": {
            "_model_module": "@jupyter-widgets/controls",
            "_model_module_version": "1.5.0",
            "_model_name": "DescriptionStyleModel",
            "_view_count": null,
            "_view_module": "@jupyter-widgets/base",
            "_view_module_version": "1.2.0",
            "_view_name": "StyleView",
            "description_width": ""
          }
        },
        "0e8b80c962f7451f93b4ff0180802e19": {
          "model_module": "@jupyter-widgets/controls",
          "model_module_version": "1.5.0",
          "model_name": "ProgressStyleModel",
          "state": {
            "_model_module": "@jupyter-widgets/controls",
            "_model_module_version": "1.5.0",
            "_model_name": "ProgressStyleModel",
            "_view_count": null,
            "_view_module": "@jupyter-widgets/base",
            "_view_module_version": "1.2.0",
            "_view_name": "StyleView",
            "bar_color": null,
            "description_width": ""
          }
        },
        "1698d5f85c6641d78c7b7a576151bdbb": {
          "model_module": "@jupyter-widgets/controls",
          "model_module_version": "1.5.0",
          "model_name": "ProgressStyleModel",
          "state": {
            "_model_module": "@jupyter-widgets/controls",
            "_model_module_version": "1.5.0",
            "_model_name": "ProgressStyleModel",
            "_view_count": null,
            "_view_module": "@jupyter-widgets/base",
            "_view_module_version": "1.2.0",
            "_view_name": "StyleView",
            "bar_color": null,
            "description_width": ""
          }
        },
        "1e5e39b718424fd98a0e729c82cb9570": {
          "model_module": "@jupyter-widgets/controls",
          "model_module_version": "1.5.0",
          "model_name": "FloatProgressModel",
          "state": {
            "_dom_classes": [],
            "_model_module": "@jupyter-widgets/controls",
            "_model_module_version": "1.5.0",
            "_model_name": "FloatProgressModel",
            "_view_count": null,
            "_view_module": "@jupyter-widgets/controls",
            "_view_module_version": "1.5.0",
            "_view_name": "ProgressView",
            "bar_style": "success",
            "description": "",
            "description_tooltip": null,
            "layout": "IPY_MODEL_c48cbb1a24e147068d08225905377136",
            "max": 58758994,
            "min": 0,
            "orientation": "horizontal",
            "style": "IPY_MODEL_0e8b80c962f7451f93b4ff0180802e19",
            "value": 58758994
          }
        },
        "1f8bb81a8eeb4b6792c0856d28f68b11": {
          "model_module": "@jupyter-widgets/base",
          "model_module_version": "1.2.0",
          "model_name": "LayoutModel",
          "state": {
            "_model_module": "@jupyter-widgets/base",
            "_model_module_version": "1.2.0",
            "_model_name": "LayoutModel",
            "_view_count": null,
            "_view_module": "@jupyter-widgets/base",
            "_view_module_version": "1.2.0",
            "_view_name": "LayoutView",
            "align_content": null,
            "align_items": null,
            "align_self": null,
            "border": null,
            "bottom": null,
            "display": null,
            "flex": null,
            "flex_flow": null,
            "grid_area": null,
            "grid_auto_columns": null,
            "grid_auto_flow": null,
            "grid_auto_rows": null,
            "grid_column": null,
            "grid_gap": null,
            "grid_row": null,
            "grid_template_areas": null,
            "grid_template_columns": null,
            "grid_template_rows": null,
            "height": null,
            "justify_content": null,
            "justify_items": null,
            "left": null,
            "margin": null,
            "max_height": null,
            "max_width": null,
            "min_height": null,
            "min_width": null,
            "object_fit": null,
            "object_position": null,
            "order": null,
            "overflow": null,
            "overflow_x": null,
            "overflow_y": null,
            "padding": null,
            "right": null,
            "top": null,
            "visibility": null,
            "width": null
          }
        },
        "219168d645a6409bad2e75005fb5dbdb": {
          "model_module": "@jupyter-widgets/base",
          "model_module_version": "1.2.0",
          "model_name": "LayoutModel",
          "state": {
            "_model_module": "@jupyter-widgets/base",
            "_model_module_version": "1.2.0",
            "_model_name": "LayoutModel",
            "_view_count": null,
            "_view_module": "@jupyter-widgets/base",
            "_view_module_version": "1.2.0",
            "_view_name": "LayoutView",
            "align_content": null,
            "align_items": null,
            "align_self": null,
            "border": null,
            "bottom": null,
            "display": null,
            "flex": null,
            "flex_flow": null,
            "grid_area": null,
            "grid_auto_columns": null,
            "grid_auto_flow": null,
            "grid_auto_rows": null,
            "grid_column": null,
            "grid_gap": null,
            "grid_row": null,
            "grid_template_areas": null,
            "grid_template_columns": null,
            "grid_template_rows": null,
            "height": null,
            "justify_content": null,
            "justify_items": null,
            "left": null,
            "margin": null,
            "max_height": null,
            "max_width": null,
            "min_height": null,
            "min_width": null,
            "object_fit": null,
            "object_position": null,
            "order": null,
            "overflow": null,
            "overflow_x": null,
            "overflow_y": null,
            "padding": null,
            "right": null,
            "top": null,
            "visibility": null,
            "width": null
          }
        },
        "2363916665f44b00a0334c853356539d": {
          "model_module": "@jupyter-widgets/controls",
          "model_module_version": "1.5.0",
          "model_name": "HTMLModel",
          "state": {
            "_dom_classes": [],
            "_model_module": "@jupyter-widgets/controls",
            "_model_module_version": "1.5.0",
            "_model_name": "HTMLModel",
            "_view_count": null,
            "_view_module": "@jupyter-widgets/controls",
            "_view_module_version": "1.5.0",
            "_view_name": "HTMLView",
            "description": "",
            "description_tooltip": null,
            "layout": "IPY_MODEL_9c4c95c2723c43be86f8c05fa4d90da6",
            "placeholder": "​",
            "style": "IPY_MODEL_885c046fd6d647e4b0c4a799894693dc",
            "value": ""
          }
        },
        "34d403d9ba1245a1aab519e56f69c503": {
          "model_module": "@jupyter-widgets/controls",
          "model_module_version": "1.5.0",
          "model_name": "DescriptionStyleModel",
          "state": {
            "_model_module": "@jupyter-widgets/controls",
            "_model_module_version": "1.5.0",
            "_model_name": "DescriptionStyleModel",
            "_view_count": null,
            "_view_module": "@jupyter-widgets/base",
            "_view_module_version": "1.2.0",
            "_view_name": "StyleView",
            "description_width": ""
          }
        },
        "57d81a3098cd4c91b4ee5e0bbcdba280": {
          "model_module": "@jupyter-widgets/base",
          "model_module_version": "1.2.0",
          "model_name": "LayoutModel",
          "state": {
            "_model_module": "@jupyter-widgets/base",
            "_model_module_version": "1.2.0",
            "_model_name": "LayoutModel",
            "_view_count": null,
            "_view_module": "@jupyter-widgets/base",
            "_view_module_version": "1.2.0",
            "_view_name": "LayoutView",
            "align_content": null,
            "align_items": null,
            "align_self": null,
            "border": null,
            "bottom": null,
            "display": null,
            "flex": null,
            "flex_flow": null,
            "grid_area": null,
            "grid_auto_columns": null,
            "grid_auto_flow": null,
            "grid_auto_rows": null,
            "grid_column": null,
            "grid_gap": null,
            "grid_row": null,
            "grid_template_areas": null,
            "grid_template_columns": null,
            "grid_template_rows": null,
            "height": null,
            "justify_content": null,
            "justify_items": null,
            "left": null,
            "margin": null,
            "max_height": null,
            "max_width": null,
            "min_height": null,
            "min_width": null,
            "object_fit": null,
            "object_position": null,
            "order": null,
            "overflow": null,
            "overflow_x": null,
            "overflow_y": null,
            "padding": null,
            "right": null,
            "top": null,
            "visibility": null,
            "width": null
          }
        },
        "63f1271a35c742eca00914740b84166d": {
          "model_module": "@jupyter-widgets/controls",
          "model_module_version": "1.5.0",
          "model_name": "HTMLModel",
          "state": {
            "_dom_classes": [],
            "_model_module": "@jupyter-widgets/controls",
            "_model_module_version": "1.5.0",
            "_model_name": "HTMLModel",
            "_view_count": null,
            "_view_module": "@jupyter-widgets/controls",
            "_view_module_version": "1.5.0",
            "_view_name": "HTMLView",
            "description": "",
            "description_tooltip": null,
            "layout": "IPY_MODEL_f20d2029ee5a4ac7ba89416b1add5024",
            "placeholder": "​",
            "style": "IPY_MODEL_34d403d9ba1245a1aab519e56f69c503",
            "value": " 94179328/? [00:01&lt;00:00, 121198045.12it/s]"
          }
        },
        "885c046fd6d647e4b0c4a799894693dc": {
          "model_module": "@jupyter-widgets/controls",
          "model_module_version": "1.5.0",
          "model_name": "DescriptionStyleModel",
          "state": {
            "_model_module": "@jupyter-widgets/controls",
            "_model_module_version": "1.5.0",
            "_model_name": "DescriptionStyleModel",
            "_view_count": null,
            "_view_module": "@jupyter-widgets/base",
            "_view_module_version": "1.2.0",
            "_view_name": "StyleView",
            "description_width": ""
          }
        },
        "8970f78d023648c7a69966d979d93b12": {
          "model_module": "@jupyter-widgets/base",
          "model_module_version": "1.2.0",
          "model_name": "LayoutModel",
          "state": {
            "_model_module": "@jupyter-widgets/base",
            "_model_module_version": "1.2.0",
            "_model_name": "LayoutModel",
            "_view_count": null,
            "_view_module": "@jupyter-widgets/base",
            "_view_module_version": "1.2.0",
            "_view_name": "LayoutView",
            "align_content": null,
            "align_items": null,
            "align_self": null,
            "border": null,
            "bottom": null,
            "display": null,
            "flex": null,
            "flex_flow": null,
            "grid_area": null,
            "grid_auto_columns": null,
            "grid_auto_flow": null,
            "grid_auto_rows": null,
            "grid_column": null,
            "grid_gap": null,
            "grid_row": null,
            "grid_template_areas": null,
            "grid_template_columns": null,
            "grid_template_rows": null,
            "height": null,
            "justify_content": null,
            "justify_items": null,
            "left": null,
            "margin": null,
            "max_height": null,
            "max_width": null,
            "min_height": null,
            "min_width": null,
            "object_fit": null,
            "object_position": null,
            "order": null,
            "overflow": null,
            "overflow_x": null,
            "overflow_y": null,
            "padding": null,
            "right": null,
            "top": null,
            "visibility": null,
            "width": null
          }
        },
        "9c4c95c2723c43be86f8c05fa4d90da6": {
          "model_module": "@jupyter-widgets/base",
          "model_module_version": "1.2.0",
          "model_name": "LayoutModel",
          "state": {
            "_model_module": "@jupyter-widgets/base",
            "_model_module_version": "1.2.0",
            "_model_name": "LayoutModel",
            "_view_count": null,
            "_view_module": "@jupyter-widgets/base",
            "_view_module_version": "1.2.0",
            "_view_name": "LayoutView",
            "align_content": null,
            "align_items": null,
            "align_self": null,
            "border": null,
            "bottom": null,
            "display": null,
            "flex": null,
            "flex_flow": null,
            "grid_area": null,
            "grid_auto_columns": null,
            "grid_auto_flow": null,
            "grid_auto_rows": null,
            "grid_column": null,
            "grid_gap": null,
            "grid_row": null,
            "grid_template_areas": null,
            "grid_template_columns": null,
            "grid_template_rows": null,
            "height": null,
            "justify_content": null,
            "justify_items": null,
            "left": null,
            "margin": null,
            "max_height": null,
            "max_width": null,
            "min_height": null,
            "min_width": null,
            "object_fit": null,
            "object_position": null,
            "order": null,
            "overflow": null,
            "overflow_x": null,
            "overflow_y": null,
            "padding": null,
            "right": null,
            "top": null,
            "visibility": null,
            "width": null
          }
        },
        "ab1670b3e0d243ba9edbcfcbb0f0715c": {
          "model_module": "@jupyter-widgets/controls",
          "model_module_version": "1.5.0",
          "model_name": "HTMLModel",
          "state": {
            "_dom_classes": [],
            "_model_module": "@jupyter-widgets/controls",
            "_model_module_version": "1.5.0",
            "_model_name": "HTMLModel",
            "_view_count": null,
            "_view_module": "@jupyter-widgets/controls",
            "_view_module_version": "1.5.0",
            "_view_name": "HTMLView",
            "description": "",
            "description_tooltip": null,
            "layout": "IPY_MODEL_219168d645a6409bad2e75005fb5dbdb",
            "placeholder": "​",
            "style": "IPY_MODEL_070c1aef6de440aa89cec234ba47a516",
            "value": " 58759168/? [00:01&lt;00:00, 53947790.00it/s]"
          }
        },
        "bbf112ebd8ec4e13b3dcf099c337e29d": {
          "model_module": "@jupyter-widgets/controls",
          "model_module_version": "1.5.0",
          "model_name": "DescriptionStyleModel",
          "state": {
            "_model_module": "@jupyter-widgets/controls",
            "_model_module_version": "1.5.0",
            "_model_name": "DescriptionStyleModel",
            "_view_count": null,
            "_view_module": "@jupyter-widgets/base",
            "_view_module_version": "1.2.0",
            "_view_name": "StyleView",
            "description_width": ""
          }
        },
        "c48cbb1a24e147068d08225905377136": {
          "model_module": "@jupyter-widgets/base",
          "model_module_version": "1.2.0",
          "model_name": "LayoutModel",
          "state": {
            "_model_module": "@jupyter-widgets/base",
            "_model_module_version": "1.2.0",
            "_model_name": "LayoutModel",
            "_view_count": null,
            "_view_module": "@jupyter-widgets/base",
            "_view_module_version": "1.2.0",
            "_view_name": "LayoutView",
            "align_content": null,
            "align_items": null,
            "align_self": null,
            "border": null,
            "bottom": null,
            "display": null,
            "flex": null,
            "flex_flow": null,
            "grid_area": null,
            "grid_auto_columns": null,
            "grid_auto_flow": null,
            "grid_auto_rows": null,
            "grid_column": null,
            "grid_gap": null,
            "grid_row": null,
            "grid_template_areas": null,
            "grid_template_columns": null,
            "grid_template_rows": null,
            "height": null,
            "justify_content": null,
            "justify_items": null,
            "left": null,
            "margin": null,
            "max_height": null,
            "max_width": null,
            "min_height": null,
            "min_width": null,
            "object_fit": null,
            "object_position": null,
            "order": null,
            "overflow": null,
            "overflow_x": null,
            "overflow_y": null,
            "padding": null,
            "right": null,
            "top": null,
            "visibility": null,
            "width": null
          }
        },
        "c874e64b94054b5680897899d74fa050": {
          "model_module": "@jupyter-widgets/controls",
          "model_module_version": "1.5.0",
          "model_name": "FloatProgressModel",
          "state": {
            "_dom_classes": [],
            "_model_module": "@jupyter-widgets/controls",
            "_model_module_version": "1.5.0",
            "_model_name": "FloatProgressModel",
            "_view_count": null,
            "_view_module": "@jupyter-widgets/controls",
            "_view_module_version": "1.5.0",
            "_view_name": "ProgressView",
            "bar_style": "success",
            "description": "",
            "description_tooltip": null,
            "layout": "IPY_MODEL_8970f78d023648c7a69966d979d93b12",
            "max": 94178964,
            "min": 0,
            "orientation": "horizontal",
            "style": "IPY_MODEL_1698d5f85c6641d78c7b7a576151bdbb",
            "value": 94178964
          }
        },
        "cabb39898c3e40cb958c9ecdcfc096cb": {
          "model_module": "@jupyter-widgets/controls",
          "model_module_version": "1.5.0",
          "model_name": "HTMLModel",
          "state": {
            "_dom_classes": [],
            "_model_module": "@jupyter-widgets/controls",
            "_model_module_version": "1.5.0",
            "_model_name": "HTMLModel",
            "_view_count": null,
            "_view_module": "@jupyter-widgets/controls",
            "_view_module_version": "1.5.0",
            "_view_name": "HTMLView",
            "description": "",
            "description_tooltip": null,
            "layout": "IPY_MODEL_eb161e4be9494261b7c4a9ddd7393dfb",
            "placeholder": "​",
            "style": "IPY_MODEL_bbf112ebd8ec4e13b3dcf099c337e29d",
            "value": ""
          }
        },
        "d7cfc3101ce14606bc9fbc2360ec4c90": {
          "model_module": "@jupyter-widgets/controls",
          "model_module_version": "1.5.0",
          "model_name": "HBoxModel",
          "state": {
            "_dom_classes": [],
            "_model_module": "@jupyter-widgets/controls",
            "_model_module_version": "1.5.0",
            "_model_name": "HBoxModel",
            "_view_count": null,
            "_view_module": "@jupyter-widgets/controls",
            "_view_module_version": "1.5.0",
            "_view_name": "HBoxView",
            "box_style": "",
            "children": [
              "IPY_MODEL_2363916665f44b00a0334c853356539d",
              "IPY_MODEL_c874e64b94054b5680897899d74fa050",
              "IPY_MODEL_63f1271a35c742eca00914740b84166d"
            ],
            "layout": "IPY_MODEL_1f8bb81a8eeb4b6792c0856d28f68b11"
          }
        },
        "d851ae745c364383bcfedd8cce057335": {
          "model_module": "@jupyter-widgets/controls",
          "model_module_version": "1.5.0",
          "model_name": "HBoxModel",
          "state": {
            "_dom_classes": [],
            "_model_module": "@jupyter-widgets/controls",
            "_model_module_version": "1.5.0",
            "_model_name": "HBoxModel",
            "_view_count": null,
            "_view_module": "@jupyter-widgets/controls",
            "_view_module_version": "1.5.0",
            "_view_name": "HBoxView",
            "box_style": "",
            "children": [
              "IPY_MODEL_cabb39898c3e40cb958c9ecdcfc096cb",
              "IPY_MODEL_1e5e39b718424fd98a0e729c82cb9570",
              "IPY_MODEL_ab1670b3e0d243ba9edbcfcbb0f0715c"
            ],
            "layout": "IPY_MODEL_57d81a3098cd4c91b4ee5e0bbcdba280"
          }
        },
        "eb161e4be9494261b7c4a9ddd7393dfb": {
          "model_module": "@jupyter-widgets/base",
          "model_module_version": "1.2.0",
          "model_name": "LayoutModel",
          "state": {
            "_model_module": "@jupyter-widgets/base",
            "_model_module_version": "1.2.0",
            "_model_name": "LayoutModel",
            "_view_count": null,
            "_view_module": "@jupyter-widgets/base",
            "_view_module_version": "1.2.0",
            "_view_name": "LayoutView",
            "align_content": null,
            "align_items": null,
            "align_self": null,
            "border": null,
            "bottom": null,
            "display": null,
            "flex": null,
            "flex_flow": null,
            "grid_area": null,
            "grid_auto_columns": null,
            "grid_auto_flow": null,
            "grid_auto_rows": null,
            "grid_column": null,
            "grid_gap": null,
            "grid_row": null,
            "grid_template_areas": null,
            "grid_template_columns": null,
            "grid_template_rows": null,
            "height": null,
            "justify_content": null,
            "justify_items": null,
            "left": null,
            "margin": null,
            "max_height": null,
            "max_width": null,
            "min_height": null,
            "min_width": null,
            "object_fit": null,
            "object_position": null,
            "order": null,
            "overflow": null,
            "overflow_x": null,
            "overflow_y": null,
            "padding": null,
            "right": null,
            "top": null,
            "visibility": null,
            "width": null
          }
        },
        "f20d2029ee5a4ac7ba89416b1add5024": {
          "model_module": "@jupyter-widgets/base",
          "model_module_version": "1.2.0",
          "model_name": "LayoutModel",
          "state": {
            "_model_module": "@jupyter-widgets/base",
            "_model_module_version": "1.2.0",
            "_model_name": "LayoutModel",
            "_view_count": null,
            "_view_module": "@jupyter-widgets/base",
            "_view_module_version": "1.2.0",
            "_view_name": "LayoutView",
            "align_content": null,
            "align_items": null,
            "align_self": null,
            "border": null,
            "bottom": null,
            "display": null,
            "flex": null,
            "flex_flow": null,
            "grid_area": null,
            "grid_auto_columns": null,
            "grid_auto_flow": null,
            "grid_auto_rows": null,
            "grid_column": null,
            "grid_gap": null,
            "grid_row": null,
            "grid_template_areas": null,
            "grid_template_columns": null,
            "grid_template_rows": null,
            "height": null,
            "justify_content": null,
            "justify_items": null,
            "left": null,
            "margin": null,
            "max_height": null,
            "max_width": null,
            "min_height": null,
            "min_width": null,
            "object_fit": null,
            "object_position": null,
            "order": null,
            "overflow": null,
            "overflow_x": null,
            "overflow_y": null,
            "padding": null,
            "right": null,
            "top": null,
            "visibility": null,
            "width": null
          }
        }
      }
    }
  },
  "nbformat": 4,
  "nbformat_minor": 0
}
